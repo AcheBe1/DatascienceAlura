{
  "nbformat": 4,
  "nbformat_minor": 0,
  "metadata": {
    "colab": {
      "provenance": [],
      "authorship_tag": "ABX9TyMKoSeYKj/YgJS0ugpGbN7W",
      "include_colab_link": true
    },
    "kernelspec": {
      "name": "python3",
      "display_name": "Python 3"
    },
    "language_info": {
      "name": "python"
    }
  },
  "cells": [
    {
      "cell_type": "markdown",
      "metadata": {
        "id": "view-in-github",
        "colab_type": "text"
      },
      "source": [
        "<a href=\"https://colab.research.google.com/github/AcheBe1/DatascienceAlura/blob/Ejercicios/EjercicioB%C3%A1sico1.ipynb\" target=\"_parent\"><img src=\"https://colab.research.google.com/assets/colab-badge.svg\" alt=\"Open In Colab\"/></a>"
      ]
    },
    {
      "cell_type": "code",
      "execution_count": null,
      "metadata": {
        "colab": {
          "base_uri": "https://localhost:8080/"
        },
        "id": "7RfFU8pO4_LC",
        "outputId": "2bf3f39b-cf8a-4438-adee-3d3831160fcf"
      },
      "outputs": [
        {
          "output_type": "stream",
          "name": "stdout",
          "text": [
            "Escriba el número 1: 5\n",
            "Escriba el número 2: 1\n",
            "El número 1 es mayor que el número 2: 5\n"
          ]
        }
      ],
      "source": [
        "num1 = int(input('Escriba el número 1: '))\n",
        "num2 = int(input('Escriba el número 2: '))\n",
        "\n",
        "if num1 > num2:\n",
        "  print(f'El número 1 es mayor que el número 2: {num1}')\n",
        "elif num1 < num2:\n",
        "  print(f'El número 2 es mayor que el número 1: {num2}')\n",
        "else:\n",
        "  print(f'Los números son iguales')"
      ]
    },
    {
      "cell_type": "code",
      "source": [
        "porcentaje = int(input('Escriba el porcentaje: '))\n",
        "\n",
        "if porcentaje > 0:\n",
        "  print(f'El porcentaje es positivo')\n",
        "elif porcentaje < 0:\n",
        "  print(f'El porcentaje es negativo')\n",
        "else:\n",
        "  print(f'El porcentaje es 0')"
      ],
      "metadata": {
        "colab": {
          "base_uri": "https://localhost:8080/"
        },
        "id": "PC91li2dS0Jd",
        "outputId": "b21f0b8b-2794-418f-e149-919f4141cc0c"
      },
      "execution_count": null,
      "outputs": [
        {
          "output_type": "stream",
          "name": "stdout",
          "text": [
            "Escriba el porcentaje: -25\n",
            "El porcentaje es negativo\n"
          ]
        }
      ]
    },
    {
      "cell_type": "code",
      "source": [
        "letra = input('Escriba una letra: ')\n",
        "\n",
        "if letra == 'a' or letra == 'e' or letra == 'i' or letra == 'o' or letra == 'u':\n",
        "  print(f'La letra es una vocal')\n",
        "else:\n",
        "    print(f'La letra es una consonante')"
      ],
      "metadata": {
        "colab": {
          "base_uri": "https://localhost:8080/"
        },
        "id": "2nnMT3eeS0Bq",
        "outputId": "6fbca8a8-6821-4d3d-a2fe-d7dd2256bfc6"
      },
      "execution_count": null,
      "outputs": [
        {
          "output_type": "stream",
          "name": "stdout",
          "text": [
            "Escriba una letra: a\n",
            "La letra es una vocal\n"
          ]
        }
      ]
    },
    {
      "cell_type": "code",
      "source": [
        "precio_ano1 = int(input('Escriba el precio promedio del año 1: '))\n",
        "precio_ano2 = int(input('Escriba el precio promedio del año 2: '))\n",
        "precio_ano3 = int(input('Escriba el precio promedio del año 3: '))\n",
        "\n",
        "mayor = precio_ano1\n",
        "if precio_ano2 > mayor:\n",
        "  mayor = precio_ano2\n",
        "if precio_ano3 > mayor:\n",
        "  mayor = precio_ano3\n",
        "\n",
        "menor = precio_ano1\n",
        "if precio_ano2 < menor:\n",
        "  menor = precio_ano2\n",
        "if precio_ano3 < menor:\n",
        "  menor = precio_ano3\n",
        "print(f'El precio promedio más alto es: {mayor}')\n",
        "print(f'El precio promedio más bajo es: {menor}')\n",
        "\n"
      ],
      "metadata": {
        "colab": {
          "base_uri": "https://localhost:8080/"
        },
        "id": "vbJab53ASz7H",
        "outputId": "818bbb3c-e459-4cb9-e0ed-fc642abbf23b"
      },
      "execution_count": null,
      "outputs": [
        {
          "output_type": "stream",
          "name": "stdout",
          "text": [
            "Escriba el precio promedio del año 1: 95000\n",
            "Escriba el precio promedio del año 2: 103000\n",
            "Escriba el precio promedio del año 3: 99000\n",
            "El precio promedio más alto es: 103000\n",
            "El precio promedio más bajo es: 95000\n"
          ]
        }
      ]
    },
    {
      "cell_type": "code",
      "source": [
        "producto1 = int(input('Escriba el precio del producto 1: '))\n",
        "producto2 = int(input('Escriba el precio del producto 2: '))\n",
        "producto3 = int(input('Escriba el precio del producto 3: '))\n",
        "\n",
        "if producto1 < producto2 and producto1 < producto3:\n",
        "  print(f'El producto 1 es el más barato')\n",
        "elif producto2 < producto1 and producto2 < producto3:\n",
        "  print(f'El producto 2 es el más barato')\n",
        "else:\n",
        "  print(f'El producto 3 es el más barato')"
      ],
      "metadata": {
        "colab": {
          "base_uri": "https://localhost:8080/"
        },
        "id": "oIOmnY3mSz1B",
        "outputId": "d3d6518f-71d3-49cd-ccc4-cfde557984a6"
      },
      "execution_count": null,
      "outputs": [
        {
          "output_type": "stream",
          "name": "stdout",
          "text": [
            "Escriba el precio del producto 1: 500\n",
            "Escriba el precio del producto 2: 280\n",
            "Escriba el precio del producto 3: 325\n",
            "El producto 2 es el más barato\n"
          ]
        }
      ]
    },
    {
      "cell_type": "code",
      "source": [
        "numero1 = int(input('Escriba el número 1: '))\n",
        "numero2 = int(input('Escriba el número 2: '))\n",
        "numero3 = int(input('Escriba el número 3: '))\n",
        "\n",
        "if numero1 >= numero2 and numero1 >= numero3:\n",
        "    mayor = numero1\n",
        "    if numero2 >= numero3:\n",
        "        medio = numero2\n",
        "        menor = numero3\n",
        "    else:\n",
        "        medio = numero3\n",
        "        menor = numero2\n",
        "elif numero2 >= numero1 and numero2 >= numero3:\n",
        "    mayor = numero2\n",
        "    if numero1 >= numero3:\n",
        "        medio = numero1\n",
        "        menor = numero3\n",
        "    else:\n",
        "        medio = numero3\n",
        "        menor = numero1\n",
        "else:\n",
        "    mayor = numero3\n",
        "    if numero1 >= numero2:\n",
        "        medio = numero1\n",
        "        menor = numero2\n",
        "    else:\n",
        "        medio = numero2\n",
        "        menor = numero1\n",
        "print(f'El número mayor es: {mayor}')\n",
        "print(f'El número medio es: {medio}')\n",
        "print(f'El número menor es: {menor}')"
      ],
      "metadata": {
        "colab": {
          "base_uri": "https://localhost:8080/"
        },
        "id": "1IsV_YYISztq",
        "outputId": "15d449fa-a992-4f14-c4f4-17fc7460097d"
      },
      "execution_count": null,
      "outputs": [
        {
          "output_type": "stream",
          "name": "stdout",
          "text": [
            "Escriba el número 1: 5\n",
            "Escriba el número 2: 95\n",
            "Escriba el número 3: 33\n",
            "El número mayor es: 95\n",
            "El número medio es: 33\n",
            "El número menor es: 5\n"
          ]
        }
      ]
    },
    {
      "cell_type": "code",
      "source": [
        "saludo = input('Escribe el turno en el que estás trabajando: ')\n",
        "\n",
        "if saludo == 'mañana':\n",
        "  print(f'¡Buenos días!')\n",
        "elif saludo == 'tarde':\n",
        "  print(f'¡Buenas tardes!')\n",
        "elif saludo == 'noche':\n",
        "  print(f'¡Buenas noches!')\n",
        "else:\n",
        "  print(f'Respuesta no valida' )"
      ],
      "metadata": {
        "colab": {
          "base_uri": "https://localhost:8080/"
        },
        "id": "U9ifqhLQSzmD",
        "outputId": "0949ed8a-40bf-44bd-bb3a-04c790200228"
      },
      "execution_count": null,
      "outputs": [
        {
          "output_type": "stream",
          "name": "stdout",
          "text": [
            "Escribe el turno en el que estás trabajando: de día\n",
            "Respuesta no valida\n"
          ]
        }
      ]
    },
    {
      "cell_type": "code",
      "source": [
        "numero = int(input('Escribe un número: '))\n",
        "\n",
        "if numero % 2 == 0:\n",
        "  print(f'El número es par')\n",
        "else:\n",
        "  print(f'El número es impar')"
      ],
      "metadata": {
        "colab": {
          "base_uri": "https://localhost:8080/"
        },
        "id": "NlD9bsKKSzcp",
        "outputId": "fbdd08fe-e2a2-4813-97df-c71a2013ce6e"
      },
      "execution_count": null,
      "outputs": [
        {
          "output_type": "stream",
          "name": "stdout",
          "text": [
            "Escribe un número: 7\n",
            "El número es impar\n"
          ]
        }
      ]
    },
    {
      "cell_type": "code",
      "source": [
        "numero = float(input('Escribe un número: '))\n",
        "\n",
        "if numero !=int(numero):\n",
        "  print(f'El número es decimal')\n",
        "else:\n",
        "  print(f'El número es entero')"
      ],
      "metadata": {
        "colab": {
          "base_uri": "https://localhost:8080/"
        },
        "id": "UixJ7RGfllAS",
        "outputId": "9cf754e6-19fb-40b6-c5d1-07a7d8ee485d"
      },
      "execution_count": null,
      "outputs": [
        {
          "output_type": "stream",
          "name": "stdout",
          "text": [
            "Escribe un número: 58.95\n",
            "El número es decimal\n"
          ]
        }
      ]
    },
    {
      "cell_type": "code",
      "source": [
        "num1 = float(input('Escribe el número 1: '))\n",
        "num2 = float(input('Escribe el número 2: '))\n",
        "operacion = input('Escribe la operación que deseas realizar: ')\n",
        "\n",
        "if operacion == 'suma':\n",
        "  print(f'La suma es: {num1 + num2}')\n",
        "elif operacion == 'resta':\n",
        "  print(f'La resta es: {num1 - num2}')\n",
        "elif operacion == 'multiplicación':\n",
        "  print(f'La multiplicación es: {num1 * num2}')\n",
        "elif operacion == 'división':\n",
        "  if num2 == 0:\n",
        "    print(f'Error: No se puede dividir entre 0.')\n",
        "  else:\n",
        "    print(f'La división es: {num1 / num2}')\n",
        "else:\n",
        "  print(f'Operación no reconocida.')"
      ],
      "metadata": {
        "id": "j3KE4eNnnZQF",
        "colab": {
          "base_uri": "https://localhost:8080/"
        },
        "outputId": "07e53f20-ade6-4c95-b6ff-d553cdd53dce"
      },
      "execution_count": null,
      "outputs": [
        {
          "output_type": "stream",
          "name": "stdout",
          "text": [
            "Escribe el número 1: 80\n",
            "Escribe el número 2: 5\n",
            "Escribe la operación que deseas realizar: división\n",
            "La división es: 16.0\n"
          ]
        }
      ]
    },
    {
      "cell_type": "code",
      "source": [
        "l1 = int(input('Escribe la longitud del lado 1: '))\n",
        "l2 = int(input('Escribe la longitud del lado 2: '))\n",
        "l3 = int(input('Escribe la longitud del lado 3: '))\n",
        "\n",
        "if l1 + l2 > l3 and l1 + l3 > l2 and l2 + l3 > l1:\n",
        "  print(f'Se puede formar un triángulo')\n",
        "  if l1 == l2 and l2 == l3:\n",
        "    print(f'El triángulo es equilátero')\n",
        "  elif l1 == l2 or l1 == l3 or l2 == l3:\n",
        "    print(f'El triángulo es isósceles')\n",
        "  elif l1 != l2 and l1 != l3 and l2 != l3:\n",
        "    print(f'El triángulo es escaleno')\n",
        "else:\n",
        "  print(f'No se puede formar un triángulo')"
      ],
      "metadata": {
        "colab": {
          "base_uri": "https://localhost:8080/"
        },
        "id": "MTyvk0p0ZjhX",
        "outputId": "e060b335-64b4-4d94-fc8d-d521b06f3ab4"
      },
      "execution_count": null,
      "outputs": [
        {
          "output_type": "stream",
          "name": "stdout",
          "text": [
            "Escribe la longitud del lado 1: 500\n",
            "Escribe la longitud del lado 2: 21\n",
            "Escribe la longitud del lado 3: 3\n",
            "No se puede formar un triángulo\n"
          ]
        }
      ]
    },
    {
      "cell_type": "code",
      "source": [
        "litros = float(input('Escribe la cantidad de litros de combustible: '))\n",
        "comb = input('Escribe el tipo de combustible (\"E\" para etanol o \"D\" para diesel): ').upper().strip()\n",
        "\n",
        "if comb == \"E\":\n",
        "  precio_litro = 1.70\n",
        "  precio = litros * precio_litro\n",
        "  if litros <=15:\n",
        "    descuento = precio * 0.02\n",
        "  else:\n",
        "    descuento = precio * 0.04\n",
        "  precio_total = precio - descuento\n",
        "  print(f'El precio total a pagar es: {precio_total}')\n",
        "\n",
        "elif comb == \"D\":\n",
        "  precio_litro = 2.00\n",
        "  precio = litros * precio_litro\n",
        "  if litros <=15:\n",
        "    descuento = precio * 0.03\n",
        "  else:\n",
        "    descuento = precio * 0.05\n",
        "  precio_total = precio - descuento\n",
        "  print(f'El precio total a pagar es: {precio_total}')\n",
        "\n",
        "else:\n",
        "  print(f'Por favor ingrese un tipo de combustible válido.')"
      ],
      "metadata": {
        "colab": {
          "base_uri": "https://localhost:8080/"
        },
        "id": "yYl3-rCgbatV",
        "outputId": "2bee392f-ab41-4776-dd2a-f8e3ddf6873f"
      },
      "execution_count": 2,
      "outputs": [
        {
          "output_type": "stream",
          "name": "stdout",
          "text": [
            "Escribe la cantidad de litros de combustible: 29\n",
            "Escribe el tipo de combustible (\"E\" para etanol o \"D\" para diesel): D\n",
            "El precio total a pagar es: 55.1\n"
          ]
        }
      ]
    },
    {
      "cell_type": "code",
      "source": [
        "ventas_22 = float(input('Escriba la cantidad vendida en el año 2022: '))\n",
        "ventas_23 = float(input('Escriba la cantidad vendida en el año 2023: '))\n",
        "\n",
        "variacion = ((ventas_23 - ventas_22) / ventas_22) * 100\n",
        "\n",
        "if variacion >= 21:\n",
        "   print(f'Felicidades, el aumento fue de: {variacion:.2f}%, el equpo de ventas recibirá una bonificación.')\n",
        "\n",
        "elif variacion >= 2 and variacion <=20:\n",
        "   print(f'El aumento fue de: {variacion:.2f}%, el equipo de ventas recibirá una pequeña bonificación.')\n",
        "\n",
        "elif variacion >= -10 and variacion < 2:\n",
        "   print(f'la diferencia fue: {variacion:.2f}%, hay que planificar politicas para incentivar las ventas.')\n",
        "\n",
        "else:\n",
        "   print(f'la diferencia fue: {variacion:.2f}, Se tendrá que hacer un recorte en los gastos.')\n",
        "\n"
      ],
      "metadata": {
        "id": "-Kfy4zfadG5Z",
        "colab": {
          "base_uri": "https://localhost:8080/"
        },
        "outputId": "37be9f67-8025-4139-c08e-6f90be858c55"
      },
      "execution_count": 13,
      "outputs": [
        {
          "output_type": "stream",
          "name": "stdout",
          "text": [
            "Escriba la cantidad vendida en el año 2022: 556\n",
            "Escriba la cantidad vendida en el año 2023: 752\n",
            "Felicidades, el aumento fue de: 35.25%, el equpo de ventas recibirá una bonificación.\n"
          ]
        }
      ]
    }
  ]
}