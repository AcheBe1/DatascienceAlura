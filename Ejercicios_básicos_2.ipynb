{
  "nbformat": 4,
  "nbformat_minor": 0,
  "metadata": {
    "colab": {
      "provenance": [],
      "authorship_tag": "ABX9TyPmvM6KxV4yabo+aJFlMDF1",
      "include_colab_link": true
    },
    "kernelspec": {
      "name": "python3",
      "display_name": "Python 3"
    },
    "language_info": {
      "name": "python"
    }
  },
  "cells": [
    {
      "cell_type": "markdown",
      "metadata": {
        "id": "view-in-github",
        "colab_type": "text"
      },
      "source": [
        "<a href=\"https://colab.research.google.com/github/AcheBe1/DatascienceAlura/blob/Ejercicios/Ejercicios_b%C3%A1sicos_2.ipynb\" target=\"_parent\"><img src=\"https://colab.research.google.com/assets/colab-badge.svg\" alt=\"Open In Colab\"/></a>"
      ]
    },
    {
      "cell_type": "code",
      "execution_count": null,
      "metadata": {
        "colab": {
          "base_uri": "https://localhost:8080/"
        },
        "id": "Npofhbt3BbWv",
        "outputId": "f065bad4-46ef-4248-dc7d-e3cc9bdbc741"
      },
      "outputs": [
        {
          "output_type": "stream",
          "name": "stdout",
          "text": [
            "Escriba el primer número: 1\n",
            "Escriba el segundo número: 5\n",
            "Los números entre 1 y 5 son:\n",
            "1\n",
            "2\n",
            "3\n",
            "4\n",
            "5\n"
          ]
        }
      ],
      "source": [
        "num1 = int(input('Escriba el primer número: '))\n",
        "num2 = int(input('Escriba el segundo número: '))\n",
        "\n",
        "print(f'Los números entre {num1} y {num2} son:')\n",
        "\n",
        "if num1 < num2:\n",
        "    for i in range(num1, num2 + 1):\n",
        "        print(i)\n",
        "else:\n",
        "    for i in range(num2, num1 + 1):\n",
        "        print(i)"
      ]
    },
    {
      "cell_type": "code",
      "source": [
        "   #valores de las colonias\n",
        "col_a = 4\n",
        "col_b = 10\n",
        "#contador de días\n",
        "dias = 0\n",
        "#ciclo while\n",
        "while col_a < col_b:\n",
        "  col_a *= 1.03  #aumento del 3%\n",
        "  col_b *= 1.015 #aumento del 1.5%\n",
        "  dias += 1\n",
        "\n",
        "print(f'La colonia A superó a la colonia B después de {dias} días. ')"
      ],
      "metadata": {
        "id": "bJ4xtheBIwCl",
        "colab": {
          "base_uri": "https://localhost:8080/"
        },
        "outputId": "eec1f561-6818-44b3-bcfc-050ff054baba"
      },
      "execution_count": null,
      "outputs": [
        {
          "output_type": "stream",
          "name": "stdout",
          "text": [
            "La colonia A superó a la colonia B después de 63 días. \n"
          ]
        }
      ]
    },
    {
      "cell_type": "code",
      "source": [
        "for i in range(15):\n",
        "  nota = float(input(f'Escriba la nota del alumno {i+1}: '))\n",
        "\n",
        "  while (nota <0) or (nota >5):\n",
        "    nota = float(input(f'La nota debe ser menor que 5 y mayor a 0; Escriba nuevamente la nota del alumno {i+1}: '))\n",
        "\n",
        "print(f'Se han recabado todas las notas, todas son correctas.')\n"
      ],
      "metadata": {
        "colab": {
          "base_uri": "https://localhost:8080/"
        },
        "id": "ltTHSaRo6uiX",
        "outputId": "7462c0fa-27c7-428d-f436-cb41ac666767"
      },
      "execution_count": null,
      "outputs": [
        {
          "output_type": "stream",
          "name": "stdout",
          "text": [
            "Escriba la nota del alumno 1: 5\n",
            "Escriba la nota del alumno 2: 2\n",
            "Escriba la nota del alumno 3: 6\n",
            "La nota debe ser menor que 5 y mayor a 0; Escriba nuevamente la nota del alumno 3: 2\n",
            "Escriba la nota del alumno 4: 4\n",
            "Escriba la nota del alumno 5: 4\n",
            "Escriba la nota del alumno 6: 8\n",
            "La nota debe ser menor que 5 y mayor a 0; Escriba nuevamente la nota del alumno 6: 4\n",
            "Escriba la nota del alumno 7: 1\n",
            "Escriba la nota del alumno 8: 2\n",
            "Escriba la nota del alumno 9: 4\n",
            "Escriba la nota del alumno 10: 5\n",
            "Escriba la nota del alumno 11: 5\n",
            "Escriba la nota del alumno 12: 1\n",
            "Escriba la nota del alumno 13: 3\n",
            "Escriba la nota del alumno 14: 5\n",
            "Escriba la nota del alumno 15: 1\n",
            "Se han recabado todas las notas, todas son correctas.\n"
          ]
        }
      ]
    },
    {
      "cell_type": "code",
      "source": [
        "temp = float(input(f'Escriba la temperatura en °C: '))\n",
        "\n",
        "contador = 0\n",
        "suma = 0\n",
        "\n",
        "while temp != -273:\n",
        "  suma += temp\n",
        "  contador += 1\n",
        "  temp = float(input(f'Escriba la temperatura en °C: '))\n",
        "\n",
        "promedio = suma / contador\n",
        "\n",
        "print(f'El promedio de las temperaturas es: {promedio:.2f}°C')\n"
      ],
      "metadata": {
        "colab": {
          "base_uri": "https://localhost:8080/"
        },
        "id": "7Cc361HH_QZO",
        "outputId": "15dfa803-4ee7-423a-ace7-2f7c81d73416"
      },
      "execution_count": null,
      "outputs": [
        {
          "output_type": "stream",
          "name": "stdout",
          "text": [
            "Escriba la temperatura en °C: 25\n",
            "Escriba la temperatura en °C: -3\n",
            "Escriba la temperatura en °C: -258\n",
            "Escriba la temperatura en °C: 89\n",
            "Escriba la temperatura en °C: 895\n",
            "Escriba la temperatura en °C: 1500\n",
            "Escriba la temperatura en °C: -273\n",
            "El promedio de las temperaturas es: 374.67°C\n"
          ]
        }
      ]
    },
    {
      "cell_type": "code",
      "source": [
        "num = int(input('Escriba un número entero: '))\n",
        "\n",
        "factorial = 1\n",
        "\n",
        "i = 1\n",
        "while i <= num:\n",
        "  factorial *= i\n",
        "  i += 1\n",
        "\n",
        "print(f'El factorial de {num} es: {factorial}')"
      ],
      "metadata": {
        "colab": {
          "base_uri": "https://localhost:8080/"
        },
        "id": "XeH_0NHvFiQ7",
        "outputId": "fc8b6b69-6e86-48aa-90c1-b111f93c72a0"
      },
      "execution_count": null,
      "outputs": [
        {
          "output_type": "stream",
          "name": "stdout",
          "text": [
            "Escriba un número entero: 5\n",
            "El factorial de 5 es: 120\n"
          ]
        }
      ]
    },
    {
      "cell_type": "code",
      "source": [
        "num = int(input('Escriba un número entero: '))\n",
        "\n",
        "factorial = 1\n",
        "\n",
        "for i in range(num, 0, -1):\n",
        "  factorial *= i\n",
        "\n",
        "print(f'El factorial de {num} es: {factorial}')"
      ],
      "metadata": {
        "colab": {
          "base_uri": "https://localhost:8080/"
        },
        "id": "JodI0Ca7JdkS",
        "outputId": "af1a00fb-8112-458b-952e-33b2cd8c2f7a"
      },
      "execution_count": null,
      "outputs": [
        {
          "output_type": "stream",
          "name": "stdout",
          "text": [
            "Escriba un número entero: 5\n",
            "El factorial de 5 es: 120\n"
          ]
        }
      ]
    },
    {
      "cell_type": "code",
      "source": [
        "num = int(input(f'Escriba un número entero: '))\n",
        "\n",
        "for i in range(1, 11):\n",
        "  print(f'{num} x {i} = {num * i}')"
      ],
      "metadata": {
        "colab": {
          "base_uri": "https://localhost:8080/"
        },
        "id": "ECwnO6NLKo6C",
        "outputId": "6884d4d8-062d-40d0-9139-93f8b526034c"
      },
      "execution_count": null,
      "outputs": [
        {
          "output_type": "stream",
          "name": "stdout",
          "text": [
            "Escriba un número entero: 5\n",
            "5 x 1 = 5\n",
            "5 x 2 = 10\n",
            "5 x 3 = 15\n",
            "5 x 4 = 20\n",
            "5 x 5 = 25\n",
            "5 x 6 = 30\n",
            "5 x 7 = 35\n",
            "5 x 8 = 40\n",
            "5 x 9 = 45\n",
            "5 x 10 = 50\n"
          ]
        }
      ]
    },
    {
      "cell_type": "code",
      "source": [
        "#identificador de números primos\n",
        "num = int(input('Escriba un número entero: '))\n",
        "for i in range(2, num):\n",
        "  if num % i == 0:\n",
        "    print(f'{num} no es un número primo')\n",
        "    break\n",
        "else:\n",
        "  print(f'{num} es un número primo')"
      ],
      "metadata": {
        "colab": {
          "base_uri": "https://localhost:8080/"
        },
        "id": "ACd2f8sLbw-Z",
        "outputId": "b20d5da9-4f01-4287-91dd-b063c0cc0d8e"
      },
      "execution_count": null,
      "outputs": [
        {
          "output_type": "stream",
          "name": "stdout",
          "text": [
            "Escriba un número entero: 9\n",
            "9 no es un número primo\n"
          ]
        }
      ]
    },
    {
      "cell_type": "code",
      "source": [
        "#Separador de edades\n",
        "\n",
        "edad = int(input('Escriba su edad: '))\n",
        "\n",
        "#variables de conteo\n",
        "contador_0_25 = 0\n",
        "contador_26_50 = 0\n",
        "contador_51_75 = 0\n",
        "contador_76_100 = 0\n",
        "\n",
        "#cliclo while a cada contador\n",
        "while edad >= 0:\n",
        "  if edad <= 25:\n",
        "    contador_0_25 += 1\n",
        "  elif 26 <= edad <= 50:\n",
        "    contador_26_50 += 1\n",
        "  elif 51 <= edad <= 75:\n",
        "    contador_51_75 += 1\n",
        "  elif 76 <= edad <= 100:\n",
        "    contador_76_100 += 1\n",
        "\n",
        "  edad = int(input('Escriba su edad: '))\n",
        "\n",
        "#impresión de resutados\n",
        "\n",
        "print(f'La cantidad de personas entre 0 y 25 años es: {contador_0_25}')\n",
        "print(f'La cantidad de personas entre 26 y 50 años es: {contador_26_50}')\n",
        "print(f'La cantidad de personas entre 51 y 75 años es: {contador_51_75}')\n",
        "print(f'La cantidad de personas entre 76 y 100 años es: {contador_76_100}')\n",
        "#"
      ],
      "metadata": {
        "id": "MluppO_Ic_D3",
        "colab": {
          "base_uri": "https://localhost:8080/"
        },
        "outputId": "531407ae-0ff8-46db-c71c-d1d16c75cafd"
      },
      "execution_count": null,
      "outputs": [
        {
          "output_type": "stream",
          "name": "stdout",
          "text": [
            "Escriba su edad: 25\n",
            "Escriba su edad: 65\n",
            "Escriba su edad: 12\n",
            "Escriba su edad: 33\n",
            "Escriba su edad: 95\n",
            "Escriba su edad: 52\n",
            "Escriba su edad: 15\n",
            "Escriba su edad: 62\n",
            "Escriba su edad: 78\n",
            "Escriba su edad: 15\n",
            "Escriba su edad: 16\n",
            "Escriba su edad: 14\n",
            "Escriba su edad: 15\n",
            "Escriba su edad: 17\n",
            "Escriba su edad: -8\n",
            "La cantidad de personas entre 0 y 25 años es: 8\n",
            "La cantidad de personas entre 26 y 50 años es: 1\n",
            "La cantidad de personas entre 51 y 75 años es: 3\n",
            "La cantidad de personas entre 76 y 100 años es: 2\n"
          ]
        }
      ]
    },
    {
      "cell_type": "code",
      "source": [
        "#votos a candidatos\n",
        "\n",
        "votos_c1 = 0\n",
        "votos_c2 = 0\n",
        "votos_c3 = 0\n",
        "votos_c4 = 0\n",
        "votos_nulos = 0\n",
        "votos_blanco = 0\n",
        "\n",
        "for i in range(1, 20)\n",
        "  voto = (int(input(f'Escriba el número del candidato que desea votar del 1 al 6(): ')))"
      ],
      "metadata": {
        "id": "0CkQZmGsD2ai"
      },
      "execution_count": null,
      "outputs": []
    }
  ]
}