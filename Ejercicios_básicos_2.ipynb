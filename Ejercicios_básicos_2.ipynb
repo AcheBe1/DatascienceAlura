{
  "nbformat": 4,
  "nbformat_minor": 0,
  "metadata": {
    "colab": {
      "provenance": [],
      "authorship_tag": "ABX9TyOvhpoLKwLah0u761vfRCLA",
      "include_colab_link": true
    },
    "kernelspec": {
      "name": "python3",
      "display_name": "Python 3"
    },
    "language_info": {
      "name": "python"
    }
  },
  "cells": [
    {
      "cell_type": "markdown",
      "metadata": {
        "id": "view-in-github",
        "colab_type": "text"
      },
      "source": [
        "<a href=\"https://colab.research.google.com/github/AcheBe1/DatascienceAlura/blob/Ejercicios/Ejercicios_b%C3%A1sicos_2.ipynb\" target=\"_parent\"><img src=\"https://colab.research.google.com/assets/colab-badge.svg\" alt=\"Open In Colab\"/></a>"
      ]
    },
    {
      "cell_type": "code",
      "execution_count": 9,
      "metadata": {
        "colab": {
          "base_uri": "https://localhost:8080/"
        },
        "id": "Npofhbt3BbWv",
        "outputId": "f065bad4-46ef-4248-dc7d-e3cc9bdbc741"
      },
      "outputs": [
        {
          "output_type": "stream",
          "name": "stdout",
          "text": [
            "Escriba el primer número: 1\n",
            "Escriba el segundo número: 5\n",
            "Los números entre 1 y 5 son:\n",
            "1\n",
            "2\n",
            "3\n",
            "4\n",
            "5\n"
          ]
        }
      ],
      "source": [
        "num1 = int(input('Escriba el primer número: '))\n",
        "num2 = int(input('Escriba el segundo número: '))\n",
        "\n",
        "print(f'Los números entre {num1} y {num2} son:')\n",
        "\n",
        "if num1 < num2:\n",
        "    for i in range(num1, num2 + 1):\n",
        "        print(i)\n",
        "else:\n",
        "    for i in range(num2, num1 + 1):\n",
        "        print(i)"
      ]
    },
    {
      "cell_type": "code",
      "source": [
        "#valores de las colonias\n",
        "col_a = 4\n",
        "col_b = 10\n",
        "#contador de días\n",
        "dias = 0\n",
        "\n",
        "while col_a =< col_b:\n",
        "  col_a"
      ],
      "metadata": {
        "id": "bJ4xtheBIwCl"
      },
      "execution_count": null,
      "outputs": []
    }
  ]
}