{
  "nbformat": 4,
  "nbformat_minor": 0,
  "metadata": {
    "colab": {
      "provenance": [],
      "authorship_tag": "ABX9TyNzCnTorzDQw0Imq8B9vzSw",
      "include_colab_link": true
    },
    "kernelspec": {
      "name": "python3",
      "display_name": "Python 3"
    },
    "language_info": {
      "name": "python"
    }
  },
  "cells": [
    {
      "cell_type": "markdown",
      "metadata": {
        "id": "view-in-github",
        "colab_type": "text"
      },
      "source": [
        "<a href=\"https://colab.research.google.com/github/AcheBe1/DatascienceAlura/blob/Ejercicios/EjercicoB%C3%A1sico0.ipynb\" target=\"_parent\"><img src=\"https://colab.research.google.com/assets/colab-badge.svg\" alt=\"Open In Colab\"/></a>"
      ]
    },
    {
      "cell_type": "code",
      "execution_count": null,
      "metadata": {
        "colab": {
          "base_uri": "https://localhost:8080/"
        },
        "id": "OBzUCTrF2AFb",
        "outputId": "07a2d9bf-3cc8-4ece-f16f-d87944cbc9f7"
      },
      "outputs": [
        {
          "output_type": "stream",
          "name": "stdout",
          "text": [
            " Escribe tu nombre: Héctor\n",
            "Hola, Héctor\n"
          ]
        }
      ],
      "source": [
        "nombre = input(' Escribe tu nombre:')\n",
        "\n",
        "print('Hola, .' +  nombre )"
      ]
    },
    {
      "cell_type": "code",
      "source": [
        "nombre = input(' Escribe tu nombre: ')\n",
        "edad = input(' Escribe tu edad: ')\n",
        "\n",
        "print('Hola, ' + nombre + ' tienes ' + edad + ' años.')\n",
        "\n",
        "type(edad)\n",
        "type(nombre)"
      ],
      "metadata": {
        "colab": {
          "base_uri": "https://localhost:8080/"
        },
        "id": "JEM3dNWKL2we",
        "outputId": "21708524-173f-4523-c2a8-b666678818a5"
      },
      "execution_count": null,
      "outputs": [
        {
          "output_type": "stream",
          "name": "stdout",
          "text": [
            " Escribe tu nombre: Héctor\n",
            " Escribe tu edad: 30\n",
            "Hola, Héctor tienes 30 años.\n"
          ]
        },
        {
          "output_type": "execute_result",
          "data": {
            "text/plain": [
              "str"
            ]
          },
          "metadata": {},
          "execution_count": 10
        }
      ]
    },
    {
      "cell_type": "code",
      "source": [
        "nombre = input(' Escribe tu nombre: ')\n",
        "edad = int(input(' Escribe tu edad: '))\n",
        "estatura = float(input(' Escribe tu estatura: '))\n",
        "\n",
        "print('Hola, ' + nombre + ' tienes ' + str(edad) + ' años y ' + str(estatura) + ' de estatura.')\n",
        "\n",
        "type(edad)\n",
        "type(nombre)\n",
        "type(estatura)"
      ],
      "metadata": {
        "id": "hGATY4ydNA7E",
        "colab": {
          "base_uri": "https://localhost:8080/"
        },
        "outputId": "3d93132d-2175-4aa5-a822-04e209f8be12"
      },
      "execution_count": 1,
      "outputs": [
        {
          "output_type": "stream",
          "name": "stdout",
          "text": [
            " Escribe tu nombre: Héctor\n",
            " Escribe tu edad: 30\n",
            " Escribe tu estatura: 1.70\n",
            "Hola, Héctor tienes 30 años y 1.7 de estatura.\n"
          ]
        },
        {
          "output_type": "execute_result",
          "data": {
            "text/plain": [
              "float"
            ]
          },
          "metadata": {},
          "execution_count": 1
        }
      ]
    },
    {
      "cell_type": "code",
      "source": [
        "Cifra_1 = int(input('Escribe el primer numero: '))\n",
        "Cifra_2 = int(input('Escribe el segundo numero: '))\n",
        "\n",
        "print('La suma de los numeros es: ' + str(Cifra_1 + Cifra_2))"
      ],
      "metadata": {
        "colab": {
          "base_uri": "https://localhost:8080/"
        },
        "id": "5uL18N6rw0DJ",
        "outputId": "e1832cc1-04f7-4ae7-a6ab-cc5c35c3abd9"
      },
      "execution_count": 8,
      "outputs": [
        {
          "output_type": "stream",
          "name": "stdout",
          "text": [
            "Escribe el primer numero: 1\n",
            "Escribe el segundo numero: 25\n",
            "La suma de los numeros es: 26\n"
          ]
        }
      ]
    },
    {
      "cell_type": "code",
      "source": [
        "cifra_1 = int(input('Escribe el primer numero: '))\n",
        "cifra_2 = int(input('Escribe el segundo numero: '))\n",
        "cifra_3 = int(input('Escribe el tercer numero: '))\n",
        "\n",
        "print('La suma de los numeros es: ' + str(cifra_1 + cifra_2 + cifra_3))"
      ],
      "metadata": {
        "colab": {
          "base_uri": "https://localhost:8080/"
        },
        "id": "0UBtfhi13Il5",
        "outputId": "3d84e97c-6b1a-4ec6-c7b9-6c8b383135d7"
      },
      "execution_count": 9,
      "outputs": [
        {
          "output_type": "stream",
          "name": "stdout",
          "text": [
            "Escribe el primer numero: 25\n",
            "Escribe el segundo numero: 6\n",
            "Escribe el tercer numero: 85\n",
            "La suma de los numeros es: 116\n"
          ]
        }
      ]
    },
    {
      "cell_type": "code",
      "source": [
        "cifra_1 = int(input('Escribe el primer numero: '))\n",
        "cifra_2 = int(input('Escribe el segundo numero: '))\n",
        "\n",
        "print('La diferencia entre los números es: ' + str(cifra_1-cifra_2))\n"
      ],
      "metadata": {
        "colab": {
          "base_uri": "https://localhost:8080/"
        },
        "id": "-hb_8Rzq6Acl",
        "outputId": "6775f907-c712-46c0-ac7a-4351e045c311"
      },
      "execution_count": 10,
      "outputs": [
        {
          "output_type": "stream",
          "name": "stdout",
          "text": [
            "Escribe el primer numero: 5\n",
            "Escribe el segundo numero: 8\n",
            "La diferencia entre los números es: -3\n"
          ]
        }
      ]
    },
    {
      "cell_type": "code",
      "source": [
        "cifra_1 = int(input('Escribe el primer numero: '))\n",
        "cifra_2 = int(input('Escribe el segundo numero: '))\n",
        "\n",
        "print('El producto de los números es: ' + str(cifra_1 * cifra_2))\n"
      ],
      "metadata": {
        "colab": {
          "base_uri": "https://localhost:8080/"
        },
        "id": "zmNVl8vzFsdK",
        "outputId": "5572e208-afef-4dae-8988-988c45422c65"
      },
      "execution_count": 11,
      "outputs": [
        {
          "output_type": "stream",
          "name": "stdout",
          "text": [
            "Escribe el primer numero: 6\n",
            "Escribe el segundo numero: 7\n",
            "El producto de los números es: 42\n"
          ]
        }
      ]
    },
    {
      "cell_type": "code",
      "source": [
        "numerador = int(input('Escribe el numerador: '))\n",
        "denominador = int(input('Escribe el denominador: '))\n",
        "\n",
        "print('El cociente de los números es: ' + str(numerador / denominador))"
      ],
      "metadata": {
        "colab": {
          "base_uri": "https://localhost:8080/"
        },
        "id": "yrk2pt-UHaD-",
        "outputId": "ade55e89-cd60-42d9-8141-4d5e34b1f2dd"
      },
      "execution_count": 12,
      "outputs": [
        {
          "output_type": "stream",
          "name": "stdout",
          "text": [
            "Escribe el numerador: 5\n",
            "Escribe el denominador: 10\n",
            "El cociente de los números es: 0.5\n"
          ]
        }
      ]
    },
    {
      "cell_type": "code",
      "source": [
        "operador = int(input('Escribe el operador: '))\n",
        "potencia = int(input('Escribe la potencia: '))\n",
        "\n",
        "print('El resultado de la potencia es: ' + str(operador ** potencia))"
      ],
      "metadata": {
        "colab": {
          "base_uri": "https://localhost:8080/"
        },
        "id": "ZsT1GTOJH28M",
        "outputId": "866062e0-22cb-440d-8078-c9b07229846b"
      },
      "execution_count": 13,
      "outputs": [
        {
          "output_type": "stream",
          "name": "stdout",
          "text": [
            "Escribe el operador: 5\n",
            "Escribe la potencia: 3\n",
            "El resultado de la potencia es: 125\n"
          ]
        }
      ]
    },
    {
      "cell_type": "code",
      "source": [
        "numerador = int(input('Escribe el numerador: '))\n",
        "denominador = int(input('Escribe el denominador: '))\n",
        "\n",
        "print('El residuo de los números es: ' + str(numerador % denominador))\n"
      ],
      "metadata": {
        "colab": {
          "base_uri": "https://localhost:8080/"
        },
        "id": "pGMlTBsOITi7",
        "outputId": "30897f0f-c601-4386-c785-f6ea5ca2c586"
      },
      "execution_count": 14,
      "outputs": [
        {
          "output_type": "stream",
          "name": "stdout",
          "text": [
            "Escribe el numerador: 55\n",
            "Escribe el denominador: 3\n",
            "El residuo de los números es: 1\n"
          ]
        }
      ]
    },
    {
      "cell_type": "code",
      "source": [
        "nota_1 = float(input('Escribe la calificación del primer semestre: '))\n",
        "nota_2 = float(input('Escribe la calificación del segundo semestre: '))\n",
        "nota_3 = float(input('Escribe la calificación del tercer semestre: '))\n",
        "\n",
        "print('La calificación final es: ' + str((nota_1 + nota_2 + nota_3) / 3))"
      ],
      "metadata": {
        "colab": {
          "base_uri": "https://localhost:8080/"
        },
        "id": "OVq5V4PfIo6j",
        "outputId": "5fb62b27-6a19-4ae2-e179-c9a204fbc6da"
      },
      "execution_count": 16,
      "outputs": [
        {
          "output_type": "stream",
          "name": "stdout",
          "text": [
            "Escribe la calificación del primer semestre: 8.5\n",
            "Escribe la calificación del segundo semestre: 7\n",
            "Escribe la calificación del tercer semestre: 9.6\n",
            "La calificación final es: 8.366666666666667\n"
          ]
        }
      ]
    },
    {
      "cell_type": "code",
      "source": [
        "#valores\n",
        "v1 = 5\n",
        "v2 = 12\n",
        "v3 = 20\n",
        "v4 = 15\n",
        "\n",
        "#pesos\n",
        "p1 = 1\n",
        "p2 = 2\n",
        "p3 = 3\n",
        "p4 = 4\n",
        "\n",
        "suma_ponderada = (v1 * p1) + (v2 * p2) + (v3 * p3) + (v4 * p4)\n",
        "suma_pesos = p1 + p2 + p3 + p4\n",
        "\n",
        "print('El promedio ponderado es: ' + str(suma_ponderada / suma_pesos))"
      ],
      "metadata": {
        "colab": {
          "base_uri": "https://localhost:8080/"
        },
        "id": "Uj5hZ2KNJakJ",
        "outputId": "b4a20d57-d70e-4318-aa23-71417061fceb"
      },
      "execution_count": 18,
      "outputs": [
        {
          "output_type": "stream",
          "name": "stdout",
          "text": [
            "El promedio ponderado es: 14.9\n"
          ]
        }
      ]
    },
    {
      "cell_type": "code",
      "source": [
        "frase = ('Hola mundo')\n",
        "\n",
        "print(frase)"
      ],
      "metadata": {
        "colab": {
          "base_uri": "https://localhost:8080/"
        },
        "id": "e8G--4FFJL_b",
        "outputId": "be63d669-a30c-4a91-c952-128de89b5111"
      },
      "execution_count": 19,
      "outputs": [
        {
          "output_type": "stream",
          "name": "stdout",
          "text": [
            "Hola mundo\n"
          ]
        }
      ]
    },
    {
      "cell_type": "code",
      "source": [
        "frase = input('Escribe una frase: ')\n",
        "\n",
        "print(frase)"
      ],
      "metadata": {
        "colab": {
          "base_uri": "https://localhost:8080/"
        },
        "id": "LTNbo3p4TnZr",
        "outputId": "548e4071-f633-4db3-c66b-9886a3da00f8"
      },
      "execution_count": 20,
      "outputs": [
        {
          "output_type": "stream",
          "name": "stdout",
          "text": [
            "Escribe una frase: pepe pecas pica papas\n",
            "pepe pecas pica papas\n"
          ]
        }
      ]
    },
    {
      "cell_type": "code",
      "source": [
        "frase = input('Escribe una frase: ')\n",
        "\n",
        "print(frase.upper())"
      ],
      "metadata": {
        "colab": {
          "base_uri": "https://localhost:8080/"
        },
        "id": "Xnye82C8Tu-2",
        "outputId": "531de640-e3d1-471d-acdb-24a8e0e588fa"
      },
      "execution_count": 21,
      "outputs": [
        {
          "output_type": "stream",
          "name": "stdout",
          "text": [
            "Escribe una frase: Hola Mundo\n",
            "HOLA MUNDO\n"
          ]
        }
      ]
    },
    {
      "cell_type": "code",
      "source": [
        "frase = input('Escribe una frase: ')\n",
        "\n",
        "print(frase.lower())"
      ],
      "metadata": {
        "colab": {
          "base_uri": "https://localhost:8080/"
        },
        "id": "e3Mstf17T-tQ",
        "outputId": "19dd5ac1-81e7-4bba-c24b-cdad53f2b8d1"
      },
      "execution_count": 22,
      "outputs": [
        {
          "output_type": "stream",
          "name": "stdout",
          "text": [
            "Escribe una frase: HOLA MUNDO\n",
            "hola mundo\n"
          ]
        }
      ]
    },
    {
      "cell_type": "code",
      "source": [
        "frase = ('    Hola mundo    ')\n",
        "\n",
        "print(frase.strip())"
      ],
      "metadata": {
        "colab": {
          "base_uri": "https://localhost:8080/"
        },
        "id": "q86fVNvkU9Tt",
        "outputId": "8ded425e-b628-4026-e59c-ef97318fc322"
      },
      "execution_count": 25,
      "outputs": [
        {
          "output_type": "stream",
          "name": "stdout",
          "text": [
            "Hola mundo\n"
          ]
        }
      ]
    },
    {
      "cell_type": "code",
      "source": [
        "frase = input('Escribe una frase: ')\n",
        "\n",
        "print(frase.strip())"
      ],
      "metadata": {
        "colab": {
          "base_uri": "https://localhost:8080/"
        },
        "id": "8q3kn6M4UMCJ",
        "outputId": "af763b9c-752b-46c6-ef4f-2fbffed573d8"
      },
      "execution_count": 24,
      "outputs": [
        {
          "output_type": "stream",
          "name": "stdout",
          "text": [
            "Escribe una frase:        Hola mundo      \n",
            "Hola mundo\n"
          ]
        }
      ]
    },
    {
      "cell_type": "code",
      "source": [
        "frase = input('Escribe una frase: ')\n",
        "\n",
        "print(frase.replace('e', 'f'))"
      ],
      "metadata": {
        "colab": {
          "base_uri": "https://localhost:8080/"
        },
        "id": "6dblpUWgUrpu",
        "outputId": "057b616c-2702-4da2-ecd5-47fe3e65d69e"
      },
      "execution_count": 27,
      "outputs": [
        {
          "output_type": "stream",
          "name": "stdout",
          "text": [
            "Escribe una frase: me temen los menos\n",
            "mf tfmfn los mfnos\n"
          ]
        }
      ]
    },
    {
      "cell_type": "code",
      "source": [
        "frase = input('Escribe una frase: ')\n",
        "\n",
        "print(frase.replace('a', '@'))"
      ],
      "metadata": {
        "colab": {
          "base_uri": "https://localhost:8080/"
        },
        "id": "hCin_9sHVaR1",
        "outputId": "610e3ba3-cece-4f5f-e245-1651dbd4d16b"
      },
      "execution_count": 28,
      "outputs": [
        {
          "output_type": "stream",
          "name": "stdout",
          "text": [
            "Escribe una frase: para volver a amar\n",
            "p@r@ volver @ @m@r\n"
          ]
        }
      ]
    },
    {
      "cell_type": "code",
      "source": [
        "frase = input('Escribe una frase: ')\n",
        "\n",
        "print(frase.replace('s', '$'))"
      ],
      "metadata": {
        "colab": {
          "base_uri": "https://localhost:8080/"
        },
        "id": "lKH_zZXJVtE_",
        "outputId": "75cbe326-09f0-470d-fc1a-7982e0ecba97"
      },
      "execution_count": 29,
      "outputs": [
        {
          "output_type": "stream",
          "name": "stdout",
          "text": [
            "Escribe una frase: santas macarenas\n",
            "$anta$ macarena$\n"
          ]
        }
      ]
    },
    {
      "cell_type": "code",
      "source": [],
      "metadata": {
        "id": "8UQzxQJ9V0gi"
      },
      "execution_count": null,
      "outputs": []
    }
  ]
}