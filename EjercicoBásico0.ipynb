{
  "nbformat": 4,
  "nbformat_minor": 0,
  "metadata": {
    "colab": {
      "provenance": [],
      "authorship_tag": "ABX9TyMzI9cBbxyVTU/HEhVv6Ua5",
      "include_colab_link": true
    },
    "kernelspec": {
      "name": "python3",
      "display_name": "Python 3"
    },
    "language_info": {
      "name": "python"
    }
  },
  "cells": [
    {
      "cell_type": "markdown",
      "metadata": {
        "id": "view-in-github",
        "colab_type": "text"
      },
      "source": [
        "<a href=\"https://colab.research.google.com/github/AcheBe1/DatascienceAlura/blob/Ejercicios/EjercicoB%C3%A1sico0.ipynb\" target=\"_parent\"><img src=\"https://colab.research.google.com/assets/colab-badge.svg\" alt=\"Open In Colab\"/></a>"
      ]
    },
    {
      "cell_type": "code",
      "execution_count": 5,
      "metadata": {
        "colab": {
          "base_uri": "https://localhost:8080/"
        },
        "id": "OBzUCTrF2AFb",
        "outputId": "07a2d9bf-3cc8-4ece-f16f-d87944cbc9f7"
      },
      "outputs": [
        {
          "output_type": "stream",
          "name": "stdout",
          "text": [
            " Escribe tu nombre: Héctor\n",
            "Hola, Héctor\n"
          ]
        }
      ],
      "source": [
        "nombre = input(' Escribe tu nombre:')\n",
        "\n",
        "print('Hola, .' +  nombre )"
      ]
    },
    {
      "cell_type": "code",
      "source": [
        "nombre = input(' Escribe tu nombre: ')\n",
        "edad = input(' Escribe tu edad: ')\n",
        "\n",
        "print('Hola, ' + nombre + ' tienes ' + edad + ' años.')\n",
        "\n",
        "type(edad)\n",
        "type(nombre)"
      ],
      "metadata": {
        "colab": {
          "base_uri": "https://localhost:8080/"
        },
        "id": "JEM3dNWKL2we",
        "outputId": "21708524-173f-4523-c2a8-b666678818a5"
      },
      "execution_count": 10,
      "outputs": [
        {
          "output_type": "stream",
          "name": "stdout",
          "text": [
            " Escribe tu nombre: Héctor\n",
            " Escribe tu edad: 30\n",
            "Hola, Héctor tienes 30 años.\n"
          ]
        },
        {
          "output_type": "execute_result",
          "data": {
            "text/plain": [
              "str"
            ]
          },
          "metadata": {},
          "execution_count": 10
        }
      ]
    },
    {
      "cell_type": "code",
      "source": [],
      "metadata": {
        "id": "hGATY4ydNA7E"
      },
      "execution_count": null,
      "outputs": []
    }
  ]
}