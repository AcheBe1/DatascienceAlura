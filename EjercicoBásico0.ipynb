{
  "nbformat": 4,
  "nbformat_minor": 0,
  "metadata": {
    "colab": {
      "provenance": [],
      "authorship_tag": "ABX9TyMliIjEvbyURXc4oujnF53B",
      "include_colab_link": true
    },
    "kernelspec": {
      "name": "python3",
      "display_name": "Python 3"
    },
    "language_info": {
      "name": "python"
    }
  },
  "cells": [
    {
      "cell_type": "markdown",
      "metadata": {
        "id": "view-in-github",
        "colab_type": "text"
      },
      "source": [
        "<a href=\"https://colab.research.google.com/github/AcheBe1/DatascienceAlura/blob/Ejercicios/EjercicoB%C3%A1sico0.ipynb\" target=\"_parent\"><img src=\"https://colab.research.google.com/assets/colab-badge.svg\" alt=\"Open In Colab\"/></a>"
      ]
    },
    {
      "cell_type": "code",
      "execution_count": null,
      "metadata": {
        "colab": {
          "base_uri": "https://localhost:8080/"
        },
        "id": "OBzUCTrF2AFb",
        "outputId": "07a2d9bf-3cc8-4ece-f16f-d87944cbc9f7"
      },
      "outputs": [
        {
          "output_type": "stream",
          "name": "stdout",
          "text": [
            " Escribe tu nombre: Héctor\n",
            "Hola, Héctor\n"
          ]
        }
      ],
      "source": [
        "nombre = input(' Escribe tu nombre:')\n",
        "\n",
        "print('Hola, .' +  nombre )"
      ]
    },
    {
      "cell_type": "code",
      "source": [
        "nombre = input(' Escribe tu nombre: ')\n",
        "edad = input(' Escribe tu edad: ')\n",
        "\n",
        "print('Hola, ' + nombre + ' tienes ' + edad + ' años.')\n",
        "\n",
        "type(edad)\n",
        "type(nombre)"
      ],
      "metadata": {
        "colab": {
          "base_uri": "https://localhost:8080/"
        },
        "id": "JEM3dNWKL2we",
        "outputId": "21708524-173f-4523-c2a8-b666678818a5"
      },
      "execution_count": null,
      "outputs": [
        {
          "output_type": "stream",
          "name": "stdout",
          "text": [
            " Escribe tu nombre: Héctor\n",
            " Escribe tu edad: 30\n",
            "Hola, Héctor tienes 30 años.\n"
          ]
        },
        {
          "output_type": "execute_result",
          "data": {
            "text/plain": [
              "str"
            ]
          },
          "metadata": {},
          "execution_count": 10
        }
      ]
    },
    {
      "cell_type": "code",
      "source": [
        "nombre = input(' Escribe tu nombre: ')\n",
        "edad = int(input(' Escribe tu edad: '))\n",
        "estatura = float(input(' Escribe tu estatura: '))\n",
        "\n",
        "print('Hola, ' + nombre + ' tienes ' + str(edad) + ' años y ' + str(estatura) + ' de estatura.')\n",
        "\n",
        "type(edad)\n",
        "type(nombre)\n",
        "type(estatura)"
      ],
      "metadata": {
        "id": "hGATY4ydNA7E",
        "colab": {
          "base_uri": "https://localhost:8080/"
        },
        "outputId": "3d93132d-2175-4aa5-a822-04e209f8be12"
      },
      "execution_count": 1,
      "outputs": [
        {
          "output_type": "stream",
          "name": "stdout",
          "text": [
            " Escribe tu nombre: Héctor\n",
            " Escribe tu edad: 30\n",
            " Escribe tu estatura: 1.70\n",
            "Hola, Héctor tienes 30 años y 1.7 de estatura.\n"
          ]
        },
        {
          "output_type": "execute_result",
          "data": {
            "text/plain": [
              "float"
            ]
          },
          "metadata": {},
          "execution_count": 1
        }
      ]
    },
    {
      "cell_type": "code",
      "source": [
        "Cifra_1 = int(input('Escribe el primer numero: '))\n",
        "Cifra_2 = int(input('Escribe el segundo numero: '))\n",
        "\n",
        "print('La suma de los numeros es: ' + str(Cifra_1 + Cifra_2))"
      ],
      "metadata": {
        "colab": {
          "base_uri": "https://localhost:8080/"
        },
        "id": "5uL18N6rw0DJ",
        "outputId": "e1832cc1-04f7-4ae7-a6ab-cc5c35c3abd9"
      },
      "execution_count": 8,
      "outputs": [
        {
          "output_type": "stream",
          "name": "stdout",
          "text": [
            "Escribe el primer numero: 1\n",
            "Escribe el segundo numero: 25\n",
            "La suma de los numeros es: 26\n"
          ]
        }
      ]
    },
    {
      "cell_type": "code",
      "source": [
        "cifra_1 = int(input('Escribe el primer numero: '))\n",
        "cifra_2 = int(input('Escribe el segundo numero: '))\n",
        "cifra_3 = int(input('Escribe el tercer numero: '))\n",
        "\n",
        "print('La suma de los numeros es: ' + str(cifra_1 + cifra_2 + cifra_3))"
      ],
      "metadata": {
        "colab": {
          "base_uri": "https://localhost:8080/"
        },
        "id": "0UBtfhi13Il5",
        "outputId": "3d84e97c-6b1a-4ec6-c7b9-6c8b383135d7"
      },
      "execution_count": 9,
      "outputs": [
        {
          "output_type": "stream",
          "name": "stdout",
          "text": [
            "Escribe el primer numero: 25\n",
            "Escribe el segundo numero: 6\n",
            "Escribe el tercer numero: 85\n",
            "La suma de los numeros es: 116\n"
          ]
        }
      ]
    },
    {
      "cell_type": "code",
      "source": [
        "cifra_1 = int(input('Escribe el primer numero: '))\n",
        "cifra_2 = int(input('Escribe el segundo numero: '))\n",
        "\n",
        "print('La diferencia entre los números es: ' + str(cifra_1-cifra_2))\n"
      ],
      "metadata": {
        "colab": {
          "base_uri": "https://localhost:8080/"
        },
        "id": "-hb_8Rzq6Acl",
        "outputId": "6775f907-c712-46c0-ac7a-4351e045c311"
      },
      "execution_count": 10,
      "outputs": [
        {
          "output_type": "stream",
          "name": "stdout",
          "text": [
            "Escribe el primer numero: 5\n",
            "Escribe el segundo numero: 8\n",
            "La diferencia entre los números es: -3\n"
          ]
        }
      ]
    },
    {
      "cell_type": "code",
      "source": [
        "cifra_1 = int(input('Escribe el primer numero: '))\n",
        "cifra_2 = int(input('Escribe el segundo numero: '))\n",
        "\n",
        "print('El producto de los números es: ' + str(cifra_1 * cifra_2))\n"
      ],
      "metadata": {
        "colab": {
          "base_uri": "https://localhost:8080/"
        },
        "id": "zmNVl8vzFsdK",
        "outputId": "5572e208-afef-4dae-8988-988c45422c65"
      },
      "execution_count": 11,
      "outputs": [
        {
          "output_type": "stream",
          "name": "stdout",
          "text": [
            "Escribe el primer numero: 6\n",
            "Escribe el segundo numero: 7\n",
            "El producto de los números es: 42\n"
          ]
        }
      ]
    }
  ]
}